{
 "cells": [
  {
   "cell_type": "code",
   "execution_count": 1,
   "id": "08eb37c0",
   "metadata": {},
   "outputs": [
    {
     "name": "stderr",
     "output_type": "stream",
     "text": [
      "[nltk_data] Downloading package stopwords to\n",
      "[nltk_data]     C:\\Users\\Acer\\AppData\\Roaming\\nltk_data...\n",
      "[nltk_data]   Unzipping corpora\\stopwords.zip.\n",
      "[nltk_data] Downloading package wordnet to\n",
      "[nltk_data]     C:\\Users\\Acer\\AppData\\Roaming\\nltk_data...\n"
     ]
    },
    {
     "data": {
      "text/plain": [
       "True"
      ]
     },
     "execution_count": 1,
     "metadata": {},
     "output_type": "execute_result"
    }
   ],
   "source": [
    "import pandas as pd\n",
    "import numpy as np\n",
    "import re\n",
    "import nltk\n",
    "import matplotlib.pyplot as plt\n",
    "import seaborn as sns\n",
    "import joblib\n",
    "\n",
    "from nltk.corpus import stopwords\n",
    "from nltk.stem import WordNetLemmatizer\n",
    "from sklearn.model_selection import train_test_split\n",
    "from sklearn.feature_extraction.text import TfidfVectorizer\n",
    "from sklearn.linear_model import LogisticRegression\n",
    "from sklearn.metrics import classification_report, confusion_matrix\n",
    "\n",
    "nltk.download('stopwords')\n",
    "nltk.download('wordnet')\n"
   ]
  },
  {
   "cell_type": "code",
   "execution_count": 4,
   "id": "f01889a9",
   "metadata": {},
   "outputs": [
    {
     "data": {
      "text/html": [
       "<div>\n",
       "<style scoped>\n",
       "    .dataframe tbody tr th:only-of-type {\n",
       "        vertical-align: middle;\n",
       "    }\n",
       "\n",
       "    .dataframe tbody tr th {\n",
       "        vertical-align: top;\n",
       "    }\n",
       "\n",
       "    .dataframe thead th {\n",
       "        text-align: right;\n",
       "    }\n",
       "</style>\n",
       "<table border=\"1\" class=\"dataframe\">\n",
       "  <thead>\n",
       "    <tr style=\"text-align: right;\">\n",
       "      <th></th>\n",
       "      <th>date</th>\n",
       "      <th>title</th>\n",
       "      <th>review</th>\n",
       "      <th>rating</th>\n",
       "      <th>username</th>\n",
       "      <th>helpful_votes</th>\n",
       "      <th>review_length</th>\n",
       "      <th>platform</th>\n",
       "      <th>language</th>\n",
       "      <th>location</th>\n",
       "      <th>version</th>\n",
       "      <th>verified_purchase</th>\n",
       "      <th>clean_review</th>\n",
       "      <th>sentiment</th>\n",
       "    </tr>\n",
       "  </thead>\n",
       "  <tbody>\n",
       "    <tr>\n",
       "      <th>0</th>\n",
       "      <td>2024-12-24</td>\n",
       "      <td>East list local interesting far magazine father.</td>\n",
       "      <td>Impressive natural language understanding. Alm...</td>\n",
       "      <td>1</td>\n",
       "      <td>darren55</td>\n",
       "      <td>25</td>\n",
       "      <td>9</td>\n",
       "      <td>Google Play</td>\n",
       "      <td>de</td>\n",
       "      <td>Nepal</td>\n",
       "      <td>2.0.4</td>\n",
       "      <td>No</td>\n",
       "      <td>impressivenaturallanguageunderstandingalmostgo...</td>\n",
       "      <td>Negative</td>\n",
       "    </tr>\n",
       "    <tr>\n",
       "      <th>1</th>\n",
       "      <td>2024-07-26</td>\n",
       "      <td>Road determine picture figure hard experience ...</td>\n",
       "      <td>Sometimes gives wrong answers or outdated info...</td>\n",
       "      <td>2</td>\n",
       "      <td>davistyler</td>\n",
       "      <td>35</td>\n",
       "      <td>14</td>\n",
       "      <td>Flipkart</td>\n",
       "      <td>es</td>\n",
       "      <td>Panama</td>\n",
       "      <td>2.6.5</td>\n",
       "      <td>No</td>\n",
       "      <td>sometimesgiveswronganswersoroutdatedinfostuden...</td>\n",
       "      <td>Negative</td>\n",
       "    </tr>\n",
       "    <tr>\n",
       "      <th>2</th>\n",
       "      <td>2024-08-22</td>\n",
       "      <td>Policy social past analysis whole.</td>\n",
       "      <td>Great tool for generating content quickly. Int...</td>\n",
       "      <td>5</td>\n",
       "      <td>andrea59</td>\n",
       "      <td>94</td>\n",
       "      <td>10</td>\n",
       "      <td>App Store</td>\n",
       "      <td>es</td>\n",
       "      <td>Denmark</td>\n",
       "      <td>4.2.2</td>\n",
       "      <td>No</td>\n",
       "      <td>greattoolforgeneratingcontentquicklyinterestin...</td>\n",
       "      <td>Positive</td>\n",
       "    </tr>\n",
       "    <tr>\n",
       "      <th>3</th>\n",
       "      <td>2025-04-24</td>\n",
       "      <td>News financial billion four foreign.</td>\n",
       "      <td>Great tool for generating content quickly. Sta...</td>\n",
       "      <td>3</td>\n",
       "      <td>dcooper</td>\n",
       "      <td>50</td>\n",
       "      <td>15</td>\n",
       "      <td>Amazon</td>\n",
       "      <td>de</td>\n",
       "      <td>Brunei Darussalam</td>\n",
       "      <td>4.4.2</td>\n",
       "      <td>No</td>\n",
       "      <td>greattoolforgeneratingcontentquicklystartmetho...</td>\n",
       "      <td>Neutral</td>\n",
       "    </tr>\n",
       "    <tr>\n",
       "      <th>4</th>\n",
       "      <td>2024-08-15</td>\n",
       "      <td>To skill she case sing stop likely.</td>\n",
       "      <td>Excellent for language translation and grammar...</td>\n",
       "      <td>1</td>\n",
       "      <td>christine79</td>\n",
       "      <td>33</td>\n",
       "      <td>11</td>\n",
       "      <td>Flipkart</td>\n",
       "      <td>fr</td>\n",
       "      <td>United States Minor Outlying Islands</td>\n",
       "      <td>5.1.1</td>\n",
       "      <td>Yes</td>\n",
       "      <td>excellentforlanguagetranslationandgrammarfixes...</td>\n",
       "      <td>Negative</td>\n",
       "    </tr>\n",
       "  </tbody>\n",
       "</table>\n",
       "</div>"
      ],
      "text/plain": [
       "         date                                              title  \\\n",
       "0  2024-12-24   East list local interesting far magazine father.   \n",
       "1  2024-07-26  Road determine picture figure hard experience ...   \n",
       "2  2024-08-22                 Policy social past analysis whole.   \n",
       "3  2025-04-24               News financial billion four foreign.   \n",
       "4  2024-08-15                To skill she case sing stop likely.   \n",
       "\n",
       "                                              review  rating     username  \\\n",
       "0  Impressive natural language understanding. Alm...       1     darren55   \n",
       "1  Sometimes gives wrong answers or outdated info...       2   davistyler   \n",
       "2  Great tool for generating content quickly. Int...       5     andrea59   \n",
       "3  Great tool for generating content quickly. Sta...       3      dcooper   \n",
       "4  Excellent for language translation and grammar...       1  christine79   \n",
       "\n",
       "   helpful_votes  review_length     platform language  \\\n",
       "0             25              9  Google Play       de   \n",
       "1             35             14     Flipkart       es   \n",
       "2             94             10    App Store       es   \n",
       "3             50             15       Amazon       de   \n",
       "4             33             11     Flipkart       fr   \n",
       "\n",
       "                               location version verified_purchase  \\\n",
       "0                                 Nepal   2.0.4                No   \n",
       "1                                Panama   2.6.5                No   \n",
       "2                               Denmark   4.2.2                No   \n",
       "3                     Brunei Darussalam   4.4.2                No   \n",
       "4  United States Minor Outlying Islands   5.1.1               Yes   \n",
       "\n",
       "                                        clean_review sentiment  \n",
       "0  impressivenaturallanguageunderstandingalmostgo...  Negative  \n",
       "1  sometimesgiveswronganswersoroutdatedinfostuden...  Negative  \n",
       "2  greattoolforgeneratingcontentquicklyinterestin...  Positive  \n",
       "3  greattoolforgeneratingcontentquicklystartmetho...   Neutral  \n",
       "4  excellentforlanguagetranslationandgrammarfixes...  Negative  "
      ]
     },
     "execution_count": 4,
     "metadata": {},
     "output_type": "execute_result"
    }
   ],
   "source": [
    "# Load raw dataset\n",
    "file_path = \"chatgpt_style_reviews_dataset.xlsx - Sheet1.csv\"  # adjust if needed\n",
    "df = pd.read_csv(file_path)\n",
    "\n",
    "lemmatizer = WordNetLemmatizer()\n",
    "stop_words = set(stopwords.words('english'))\n",
    "\n",
    "def clean_text(text):\n",
    "    if pd.isnull(text):\n",
    "        return \"\"\n",
    "    text = text.lower()\n",
    "    text = re.sub(r'[^a-zA-Z\\\\s]', '', text)\n",
    "    tokens = text.split()\n",
    "    tokens = [lemmatizer.lemmatize(word) for word in tokens if word not in stop_words]\n",
    "    return \" \".join(tokens)\n",
    "\n",
    "df['clean_review'] = df['review'].astype(str).apply(clean_text)\n",
    "\n",
    "def label_sentiment(rating):\n",
    "    if rating <= 2:\n",
    "        return \"Negative\"\n",
    "    elif rating == 3:\n",
    "        return \"Neutral\"\n",
    "    else:\n",
    "        return \"Positive\"\n",
    "\n",
    "df['sentiment'] = df['rating'].apply(label_sentiment)\n",
    "\n",
    "df.to_csv(\"preprocessed_reviews.csv\", index=False)\n",
    "df.head()\n"
   ]
  },
  {
   "cell_type": "code",
   "execution_count": 5,
   "id": "b5744b06",
   "metadata": {},
   "outputs": [],
   "source": [
    "X = df['clean_review']\n",
    "y = df['sentiment']\n",
    "\n",
    "X_train, X_test, y_train, y_test = train_test_split(\n",
    "    X, y, test_size=0.2, stratify=y, random_state=42\n",
    ")\n",
    "\n",
    "vectorizer = TfidfVectorizer(max_features=5000, ngram_range=(1,2))\n",
    "X_train_tfidf = vectorizer.fit_transform(X_train)\n",
    "X_test_tfidf = vectorizer.transform(X_test)\n"
   ]
  },
  {
   "cell_type": "code",
   "execution_count": 7,
   "id": "0467ddab",
   "metadata": {},
   "outputs": [],
   "source": [
    "import os\n",
    "\n",
    "os.makedirs(\"models\", exist_ok=True)  # create folder if it doesn't exist\n"
   ]
  },
  {
   "cell_type": "code",
   "execution_count": 9,
   "id": "baec2e7a",
   "metadata": {},
   "outputs": [
    {
     "name": "stdout",
     "output_type": "stream",
     "text": [
      "✅ Model trained & saved\n"
     ]
    }
   ],
   "source": [
    "model = LogisticRegression(max_iter=1000, class_weight='balanced')\n",
    "model.fit(X_train_tfidf, y_train)\n",
    "\n",
    "joblib.dump(model, \"models/sentiment_model.pkl\")\n",
    "joblib.dump(vectorizer, \"models/tfidf_vectorizer.pkl\")\n",
    "\n",
    "print(\"✅ Model trained & saved\")\n"
   ]
  },
  {
   "cell_type": "code",
   "execution_count": 10,
   "id": "f921e3d5",
   "metadata": {},
   "outputs": [
    {
     "name": "stderr",
     "output_type": "stream",
     "text": [
      "c:\\ProgramData\\anaconda3\\Lib\\site-packages\\sklearn\\metrics\\_classification.py:1531: UndefinedMetricWarning: Precision is ill-defined and being set to 0.0 in labels with no predicted samples. Use `zero_division` parameter to control this behavior.\n",
      "  _warn_prf(average, modifier, f\"{metric.capitalize()} is\", len(result))\n",
      "c:\\ProgramData\\anaconda3\\Lib\\site-packages\\sklearn\\metrics\\_classification.py:1531: UndefinedMetricWarning: Precision is ill-defined and being set to 0.0 in labels with no predicted samples. Use `zero_division` parameter to control this behavior.\n",
      "  _warn_prf(average, modifier, f\"{metric.capitalize()} is\", len(result))\n",
      "c:\\ProgramData\\anaconda3\\Lib\\site-packages\\sklearn\\metrics\\_classification.py:1531: UndefinedMetricWarning: Precision is ill-defined and being set to 0.0 in labels with no predicted samples. Use `zero_division` parameter to control this behavior.\n",
      "  _warn_prf(average, modifier, f\"{metric.capitalize()} is\", len(result))\n"
     ]
    },
    {
     "name": "stdout",
     "output_type": "stream",
     "text": [
      "Classification Report:\n",
      "               precision    recall  f1-score   support\n",
      "\n",
      "    Negative       0.40      1.00      0.57         4\n",
      "     Neutral       0.00      0.00      0.00         3\n",
      "    Positive       0.00      0.00      0.00         3\n",
      "\n",
      "    accuracy                           0.40        10\n",
      "   macro avg       0.13      0.33      0.19        10\n",
      "weighted avg       0.16      0.40      0.23        10\n",
      "\n"
     ]
    },
    {
     "data": {
      "image/png": "[encoded data removed]",
      "text/plain": [
       "<Figure size 640x480 with 2 Axes>"
      ]
     },
     "metadata": {},
     "output_type": "display_data"
    }
   ],
   "source": [
    "y_pred = model.predict(X_test_tfidf)\n",
    "\n",
    "print(\"Classification Report:\\n\", classification_report(y_test, y_pred))\n",
    "\n",
    "cm = confusion_matrix(y_test, y_pred)\n",
    "sns.heatmap(cm, annot=True, fmt=\"d\", cmap=\"Blues\",\n",
    "            xticklabels=model.classes_, yticklabels=model.classes_)\n",
    "plt.xlabel(\"Predicted\")\n",
    "plt.ylabel(\"Actual\")\n",
    "plt.title(\"Confusion Matrix\")\n",
    "plt.show()\n"
   ]
  },
  {
   "cell_type": "code",
   "execution_count": 11,
   "id": "71d50a46",
   "metadata": {},
   "outputs": [
    {
     "name": "stdout",
     "output_type": "stream",
     "text": [
      "sentiment\n",
      "Negative    20\n",
      "Positive    17\n",
      "Neutral     13\n",
      "Name: count, dtype: int64\n"
     ]
    }
   ],
   "source": [
    "print(df['sentiment'].value_counts())\n"
   ]
  },
  {
   "cell_type": "code",
   "execution_count": 13,
   "id": "be82037d",
   "metadata": {},
   "outputs": [
    {
     "name": "stderr",
     "output_type": "stream",
     "text": [
      "C:\\Users\\Acer\\AppData\\Local\\Temp\\ipykernel_18752\\1800753629.py:7: FutureWarning: \n",
      "\n",
      "Passing `palette` without assigning `hue` is deprecated and will be removed in v0.14.0. Assign the `x` variable to `hue` and set `legend=False` for the same effect.\n",
      "\n",
      "  sns.barplot(x=sentiment_counts.index, y=sentiment_counts.values, palette=\"viridis\")\n"
     ]
    },
    {
     "data": {
      "image/png": "[encoded data removed]",
      "text/plain": [
       "<Figure size 600x400 with 1 Axes>"
      ]
     },
     "metadata": {},
     "output_type": "display_data"
    }
   ],
   "source": [
    "import matplotlib.pyplot as plt\n",
    "import seaborn as sns\n",
    "\n",
    "sentiment_counts = df['sentiment'].value_counts()\n",
    "\n",
    "plt.figure(figsize=(6,4))\n",
    "sns.barplot(x=sentiment_counts.index, y=sentiment_counts.values, palette=\"viridis\")\n",
    "plt.title(\"Sentiment Distribution\")\n",
    "plt.xlabel(\"Sentiment\")\n",
    "plt.ylabel(\"Count\")\n",
    "plt.show()\n"
   ]
  },
  {
   "cell_type": "code",
   "execution_count": 15,
   "id": "f996fde3",
   "metadata": {},
   "outputs": [
    {
     "name": "stdout",
     "output_type": "stream",
     "text": [
      "Prediction: Negative\n"
     ]
    }
   ],
   "source": [
    "def predict_sentiment(text):\n",
    "    clean = clean_text(text)\n",
    "    vec = vectorizer.transform([clean])\n",
    "    return model.predict(vec)[0]\n",
    "\n",
    "sample_review = \"I like to travel world\"\n",
    "print(\"Prediction:\", predict_sentiment(sample_review))\n"
   ]
  }
 ],
 "metadata": {
  "kernelspec": {
   "display_name": "base",
   "language": "python",
   "name": "python3"
  },
  "language_info": {
   "codemirror_mode": {
    "name": "ipython",
    "version": 3
   },
   "file_extension": ".py",
   "mimetype": "text/x-python",
   "name": "python",
   "nbconvert_exporter": "python",
   "pygments_lexer": "ipython3",
   "version": "3.12.7"
  }
 },
 "nbformat": 4,
 "nbformat_minor": 5
}
